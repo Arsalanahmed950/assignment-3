{
 "cells": [
  {
   "cell_type": "code",
   "execution_count": 11,
   "metadata": {},
   "outputs": [
    {
     "name": "stdout",
     "output_type": "stream",
     "text": [
      "Enter the first value 2\n",
      "Enter the second value 3\n",
      "Enter the operator /\n",
      "\n",
      "answer is  0.6666666666666666\n"
     ]
    }
   ],
   "source": [
    "#Q1. Make a calculator using Python with addition , subtraction , multiplication , division and power.\n",
    "\n",
    "\n",
    "val1 = int(input(\"Enter the first value \"));\n",
    "val2 = int(input(\"Enter the second value \"));\n",
    "operator = input(\"Enter the operator \");\n",
    "if operator == \"+\" :\n",
    "    val = val1 + val2\n",
    "    print(\"\\nanswer is \",val);\n",
    "elif operator == \"-\" :\n",
    "    val = val1 - val2\n",
    "    print(\"\\nanswer is \",val);\n",
    "elif operator == \"*\" :\n",
    "    val = val1 * val2\n",
    "    print(\"\\nanswer is \",val);\n",
    "elif operator == \"/\" :\n",
    "    val = val1 / val2\n",
    "    print(\"\\nanswer is \",val);\n",
    "elif operator == \"^\" :\n",
    "    val = val1**val2\n",
    "    print(\"\\nanswer is \",val);\n",
    "else :\n",
    "    print(\"Enter the right operator\");"
   ]
  },
  {
   "cell_type": "code",
   "execution_count": 12,
   "metadata": {},
   "outputs": [
    {
     "name": "stdout",
     "output_type": "stream",
     "text": [
      "This is not the numeric value =\t arsalan\n",
      "This is the numeric value =\t 45\n",
      "This is not the numeric value =\t hammad\n",
      "This is not the numeric value =\t ahmed\n",
      "This is the numeric value =\t 92\n",
      "This is the numeric value =\t 2\n"
     ]
    }
   ],
   "source": [
    "#Q2. Write a program to check if there is any numeric value in list using for loop.\n",
    "\n",
    "list1 = ['arsalan' , 45 , 'hammad' , 'ahmed', 92 , 2];\n",
    "for i in range (0 , len(list1)) :\n",
    "    if type(list1[i]) == int :\n",
    "        print(\"This is the numeric value =\\t\",list1[i]);\n",
    "    else :\n",
    "        print(\"This is not the numeric value =\\t\" , list1[i]);\n",
    "        "
   ]
  },
  {
   "cell_type": "code",
   "execution_count": 14,
   "metadata": {},
   "outputs": [
    {
     "name": "stdout",
     "output_type": "stream",
     "text": [
      "{'First_Name': 'Ahmed', 'Last_Name': 'Ali', 'Customer_no. ': 32156, 'Address ': 'Gulshan-e-Iqbal'}\n",
      "\n",
      "Customer Dictionary after additional details\n",
      "\n",
      "{'First_Name': 'Ahmed', 'Last_Name': 'Ali', 'Customer_no. ': 32156, 'Address ': 'Gulshan-e-Iqbal', 'City_name': 'karachi'}\n"
     ]
    }
   ],
   "source": [
    "#Q3. Write a Python script to add a key to a dictionary.\n",
    "\n",
    "Customer_details = {\n",
    "    'First_Name' : 'Ahmed',\n",
    "    'Last_Name' : 'Ali',\n",
    "    'Customer_no. ' : 32156 ,\n",
    "    'Address ' : 'Gulshan-e-Iqbal' \n",
    "    \n",
    "}\n",
    "\n",
    "print(Customer_details)\n",
    "\n",
    "Additional_details = {\n",
    "    'City_name' : 'karachi'}\n",
    "\n",
    "print(\"\\nCustomer Dictionary after additional details\\n\");\n",
    "\n",
    "Customer_details.update(Additional_details)\n",
    "\n",
    "print(Customer_details)\n",
    "\n",
    "\n",
    "\n"
   ]
  },
  {
   "cell_type": "code",
   "execution_count": 16,
   "metadata": {},
   "outputs": [
    {
     "name": "stdout",
     "output_type": "stream",
     "text": [
      "  509\n"
     ]
    }
   ],
   "source": [
    "#Q4. Write a Python program to sum all the numeric items in a dictionary.\n",
    "\n",
    "Random_Data = {\n",
    "    'my_name' : 'Arsalan Ahmed',\n",
    "    'my_age' : 20 ,\n",
    "    'my_date_of_birth' : 306,\n",
    "    'my_Gender' : 'Male',\n",
    "    'my_height_in_cm' :183 }\n",
    "total = 0\n",
    "for i in Random_Data :\n",
    "    if type(Random_Data[i]) == int :\n",
    "        total += Random_Data[i]\n",
    "print(\" \" , total)"
   ]
  },
  {
   "cell_type": "code",
   "execution_count": 17,
   "metadata": {},
   "outputs": [
    {
     "name": "stdout",
     "output_type": "stream",
     "text": [
      "  1\n",
      "  3\n",
      "  5\n"
     ]
    }
   ],
   "source": [
    "#Q5. Write a program to identify duplicate values from list\n",
    "\n",
    "list2 = [1,2,3,1,4,5,3,6,5];\n",
    "list2.sort()\n",
    "for i in range (1, len(list2)) :\n",
    "    if list2[i] == list2[i-1] :\n",
    "        print(\" \" , list2[i]);"
   ]
  },
  {
   "cell_type": "code",
   "execution_count": 19,
   "metadata": {},
   "outputs": [
    {
     "name": "stdout",
     "output_type": "stream",
     "text": [
      "it already exists\n"
     ]
    }
   ],
   "source": [
    "#6. Write a Python script to check if a given key already exists in a dictionary\n",
    "\n",
    "Random_Data = {\n",
    "    'my_name' : 'Arsalan Ahmed',\n",
    "    'my_age' : 20 ,\n",
    "    'my_date_of_birth' : 307,\n",
    "    'my_Gender' : 'Male',\n",
    "    'my_height_in_cm' :183 }\n",
    "\n",
    "def is_key_present(x):\n",
    "\n",
    "    if x in Random_Data :\n",
    "    \n",
    "        print(\"it already exists\");\n",
    "       \n",
    "    else :\n",
    "    \n",
    "        print(\"It doesn't exist\");\n",
    "    \n",
    "is_key_present('my_name')\n",
    "          "
   ]
  },
  {
   "cell_type": "code",
   "execution_count": null,
   "metadata": {},
   "outputs": [],
   "source": []
  }
 ],
 "metadata": {
  "kernelspec": {
   "display_name": "Python 3",
   "language": "python",
   "name": "python3"
  },
  "language_info": {
   "codemirror_mode": {
    "name": "ipython",
    "version": 3
   },
   "file_extension": ".py",
   "mimetype": "text/x-python",
   "name": "python",
   "nbconvert_exporter": "python",
   "pygments_lexer": "ipython3",
   "version": "3.7.4"
  }
 },
 "nbformat": 4,
 "nbformat_minor": 2
}
